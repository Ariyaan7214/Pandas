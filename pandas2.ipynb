{
 "cells": [
  {
   "cell_type": "code",
   "execution_count": 1,
   "id": "3e8422c4",
   "metadata": {},
   "outputs": [
    {
     "data": {
      "text/plain": [
       "4"
      ]
     },
     "execution_count": 1,
     "metadata": {},
     "output_type": "execute_result"
    }
   ],
   "source": [
    "2 + 2"
   ]
  },
  {
   "cell_type": "code",
   "execution_count": 2,
   "id": "2692d1be",
   "metadata": {},
   "outputs": [],
   "source": [
    "import numpy as np\n",
    "import pandas as pd"
   ]
  },
  {
   "cell_type": "code",
   "execution_count": 3,
   "id": "eea882ad",
   "metadata": {},
   "outputs": [
    {
     "data": {
      "text/html": [
       "<div>\n",
       "<style scoped>\n",
       "    .dataframe tbody tr th:only-of-type {\n",
       "        vertical-align: middle;\n",
       "    }\n",
       "\n",
       "    .dataframe tbody tr th {\n",
       "        vertical-align: top;\n",
       "    }\n",
       "\n",
       "    .dataframe thead th {\n",
       "        text-align: right;\n",
       "    }\n",
       "</style>\n",
       "<table border=\"1\" class=\"dataframe\">\n",
       "  <thead>\n",
       "    <tr style=\"text-align: right;\">\n",
       "      <th></th>\n",
       "      <th>W</th>\n",
       "      <th>X</th>\n",
       "      <th>Y</th>\n",
       "      <th>Z</th>\n",
       "    </tr>\n",
       "  </thead>\n",
       "  <tbody>\n",
       "    <tr>\n",
       "      <th>A</th>\n",
       "      <td>-0.563614</td>\n",
       "      <td>-0.329498</td>\n",
       "      <td>-2.109620</td>\n",
       "      <td>-0.832064</td>\n",
       "    </tr>\n",
       "    <tr>\n",
       "      <th>B</th>\n",
       "      <td>0.439073</td>\n",
       "      <td>-2.017416</td>\n",
       "      <td>-0.091666</td>\n",
       "      <td>-1.446877</td>\n",
       "    </tr>\n",
       "    <tr>\n",
       "      <th>C</th>\n",
       "      <td>1.564988</td>\n",
       "      <td>2.053313</td>\n",
       "      <td>0.155399</td>\n",
       "      <td>-0.232573</td>\n",
       "    </tr>\n",
       "    <tr>\n",
       "      <th>D</th>\n",
       "      <td>-1.523819</td>\n",
       "      <td>-0.718567</td>\n",
       "      <td>-0.243841</td>\n",
       "      <td>1.585095</td>\n",
       "    </tr>\n",
       "    <tr>\n",
       "      <th>E</th>\n",
       "      <td>0.160571</td>\n",
       "      <td>0.115993</td>\n",
       "      <td>0.425760</td>\n",
       "      <td>-0.022770</td>\n",
       "    </tr>\n",
       "  </tbody>\n",
       "</table>\n",
       "</div>"
      ],
      "text/plain": [
       "          W         X         Y         Z\n",
       "A -0.563614 -0.329498 -2.109620 -0.832064\n",
       "B  0.439073 -2.017416 -0.091666 -1.446877\n",
       "C  1.564988  2.053313  0.155399 -0.232573\n",
       "D -1.523819 -0.718567 -0.243841  1.585095\n",
       "E  0.160571  0.115993  0.425760 -0.022770"
      ]
     },
     "execution_count": 3,
     "metadata": {},
     "output_type": "execute_result"
    }
   ],
   "source": [
    "from numpy.random import randn\n",
    "df = pd.DataFrame(randn(5,4), index='A B C D E'.split(),columns='W X Y Z'.split())\n",
    "df"
   ]
  },
  {
   "cell_type": "code",
   "execution_count": 5,
   "id": "53afa441",
   "metadata": {},
   "outputs": [
    {
     "data": {
      "text/plain": [
       "array([[ 1.46360684, -0.18166683, -1.27972671, ..., -0.09030109,\n",
       "        -0.72343503, -1.36400504],\n",
       "       [ 0.47641478, -0.04054289,  0.30574351, ...,  0.60407639,\n",
       "         0.21669816, -1.63015561],\n",
       "       [-1.0773866 , -1.46645838, -0.13514368, ..., -1.09082586,\n",
       "        -2.30316639, -0.47335028],\n",
       "       ...,\n",
       "       [ 0.22380769, -0.63497743, -1.73211591, ..., -0.56807057,\n",
       "        -0.54880217, -0.42941299],\n",
       "       [ 0.73500091,  0.86906372, -0.30356169, ..., -0.86744502,\n",
       "        -0.71506344,  0.20748263],\n",
       "       [-0.44234151,  0.6634897 ,  0.78862391, ...,  2.16031523,\n",
       "         2.21507075, -0.46026738]])"
      ]
     },
     "execution_count": 5,
     "metadata": {},
     "output_type": "execute_result"
    }
   ],
   "source": [
    "randn(198,722)"
   ]
  },
  {
   "cell_type": "code",
   "execution_count": 6,
   "id": "a0c9f083",
   "metadata": {},
   "outputs": [
    {
     "data": {
      "text/plain": [
       "['A', 'B', 'C', 'D', 'E']"
      ]
     },
     "execution_count": 6,
     "metadata": {},
     "output_type": "execute_result"
    }
   ],
   "source": [
    "'A B C D E'.split()"
   ]
  },
  {
   "cell_type": "code",
   "execution_count": 10,
   "id": "9ff16f64",
   "metadata": {},
   "outputs": [
    {
     "data": {
      "text/html": [
       "<div>\n",
       "<style scoped>\n",
       "    .dataframe tbody tr th:only-of-type {\n",
       "        vertical-align: middle;\n",
       "    }\n",
       "\n",
       "    .dataframe tbody tr th {\n",
       "        vertical-align: top;\n",
       "    }\n",
       "\n",
       "    .dataframe thead th {\n",
       "        text-align: right;\n",
       "    }\n",
       "</style>\n",
       "<table border=\"1\" class=\"dataframe\">\n",
       "  <thead>\n",
       "    <tr style=\"text-align: right;\">\n",
       "      <th></th>\n",
       "      <th>W</th>\n",
       "      <th>X</th>\n",
       "      <th>Y</th>\n",
       "      <th>Z</th>\n",
       "    </tr>\n",
       "  </thead>\n",
       "  <tbody>\n",
       "    <tr>\n",
       "      <th>A</th>\n",
       "      <td>-0.563614</td>\n",
       "      <td>-0.329498</td>\n",
       "      <td>-2.109620</td>\n",
       "      <td>-0.832064</td>\n",
       "    </tr>\n",
       "    <tr>\n",
       "      <th>B</th>\n",
       "      <td>0.439073</td>\n",
       "      <td>-2.017416</td>\n",
       "      <td>-0.091666</td>\n",
       "      <td>-1.446877</td>\n",
       "    </tr>\n",
       "    <tr>\n",
       "      <th>C</th>\n",
       "      <td>1.564988</td>\n",
       "      <td>2.053313</td>\n",
       "      <td>0.155399</td>\n",
       "      <td>-0.232573</td>\n",
       "    </tr>\n",
       "    <tr>\n",
       "      <th>D</th>\n",
       "      <td>-1.523819</td>\n",
       "      <td>-0.718567</td>\n",
       "      <td>-0.243841</td>\n",
       "      <td>1.585095</td>\n",
       "    </tr>\n",
       "    <tr>\n",
       "      <th>E</th>\n",
       "      <td>0.160571</td>\n",
       "      <td>0.115993</td>\n",
       "      <td>0.425760</td>\n",
       "      <td>-0.022770</td>\n",
       "    </tr>\n",
       "  </tbody>\n",
       "</table>\n",
       "</div>"
      ],
      "text/plain": [
       "          W         X         Y         Z\n",
       "A -0.563614 -0.329498 -2.109620 -0.832064\n",
       "B  0.439073 -2.017416 -0.091666 -1.446877\n",
       "C  1.564988  2.053313  0.155399 -0.232573\n",
       "D -1.523819 -0.718567 -0.243841  1.585095\n",
       "E  0.160571  0.115993  0.425760 -0.022770"
      ]
     },
     "execution_count": 10,
     "metadata": {},
     "output_type": "execute_result"
    }
   ],
   "source": [
    "df"
   ]
  },
  {
   "cell_type": "code",
   "execution_count": 14,
   "id": "9a934716",
   "metadata": {},
   "outputs": [
    {
     "data": {
      "text/html": [
       "<div>\n",
       "<style scoped>\n",
       "    .dataframe tbody tr th:only-of-type {\n",
       "        vertical-align: middle;\n",
       "    }\n",
       "\n",
       "    .dataframe tbody tr th {\n",
       "        vertical-align: top;\n",
       "    }\n",
       "\n",
       "    .dataframe thead th {\n",
       "        text-align: right;\n",
       "    }\n",
       "</style>\n",
       "<table border=\"1\" class=\"dataframe\">\n",
       "  <thead>\n",
       "    <tr style=\"text-align: right;\">\n",
       "      <th></th>\n",
       "      <th>W</th>\n",
       "      <th>Z</th>\n",
       "    </tr>\n",
       "  </thead>\n",
       "  <tbody>\n",
       "    <tr>\n",
       "      <th>A</th>\n",
       "      <td>-0.563614</td>\n",
       "      <td>-0.832064</td>\n",
       "    </tr>\n",
       "    <tr>\n",
       "      <th>B</th>\n",
       "      <td>0.439073</td>\n",
       "      <td>-1.446877</td>\n",
       "    </tr>\n",
       "    <tr>\n",
       "      <th>C</th>\n",
       "      <td>1.564988</td>\n",
       "      <td>-0.232573</td>\n",
       "    </tr>\n",
       "    <tr>\n",
       "      <th>D</th>\n",
       "      <td>-1.523819</td>\n",
       "      <td>1.585095</td>\n",
       "    </tr>\n",
       "    <tr>\n",
       "      <th>E</th>\n",
       "      <td>0.160571</td>\n",
       "      <td>-0.022770</td>\n",
       "    </tr>\n",
       "  </tbody>\n",
       "</table>\n",
       "</div>"
      ],
      "text/plain": [
       "          W         Z\n",
       "A -0.563614 -0.832064\n",
       "B  0.439073 -1.446877\n",
       "C  1.564988 -0.232573\n",
       "D -1.523819  1.585095\n",
       "E  0.160571 -0.022770"
      ]
     },
     "execution_count": 14,
     "metadata": {},
     "output_type": "execute_result"
    }
   ],
   "source": [
    "df[['W','Z']]"
   ]
  },
  {
   "cell_type": "code",
   "execution_count": 15,
   "id": "c848918c",
   "metadata": {},
   "outputs": [
    {
     "data": {
      "text/plain": [
       "A   -0.563614\n",
       "B    0.439073\n",
       "C    1.564988\n",
       "D   -1.523819\n",
       "E    0.160571\n",
       "Name: W, dtype: float64"
      ]
     },
     "execution_count": 15,
     "metadata": {},
     "output_type": "execute_result"
    }
   ],
   "source": [
    "df.W"
   ]
  },
  {
   "cell_type": "code",
   "execution_count": 17,
   "id": "47b1c473",
   "metadata": {},
   "outputs": [
    {
     "data": {
      "text/plain": [
       "A   -0.563614\n",
       "B    0.439073\n",
       "C    1.564988\n",
       "D   -1.523819\n",
       "E    0.160571\n",
       "Name: W, dtype: float64"
      ]
     },
     "execution_count": 17,
     "metadata": {},
     "output_type": "execute_result"
    }
   ],
   "source": [
    "df['W']"
   ]
  },
  {
   "cell_type": "code",
   "execution_count": 18,
   "id": "55a01f84",
   "metadata": {},
   "outputs": [
    {
     "data": {
      "text/plain": [
       "pandas.core.series.Series"
      ]
     },
     "execution_count": 18,
     "metadata": {},
     "output_type": "execute_result"
    }
   ],
   "source": [
    "type(df[\"W\"])"
   ]
  },
  {
   "cell_type": "code",
   "execution_count": 19,
   "id": "87649461",
   "metadata": {},
   "outputs": [
    {
     "data": {
      "text/plain": [
       "pandas.core.frame.DataFrame"
      ]
     },
     "execution_count": 19,
     "metadata": {},
     "output_type": "execute_result"
    }
   ],
   "source": [
    "type(df)"
   ]
  },
  {
   "cell_type": "code",
   "execution_count": 22,
   "id": "61ed76f7",
   "metadata": {},
   "outputs": [],
   "source": [
    "df['Q'] = df['W'] + df['Y']"
   ]
  },
  {
   "cell_type": "code",
   "execution_count": 23,
   "id": "ece9622a",
   "metadata": {},
   "outputs": [
    {
     "data": {
      "text/html": [
       "<div>\n",
       "<style scoped>\n",
       "    .dataframe tbody tr th:only-of-type {\n",
       "        vertical-align: middle;\n",
       "    }\n",
       "\n",
       "    .dataframe tbody tr th {\n",
       "        vertical-align: top;\n",
       "    }\n",
       "\n",
       "    .dataframe thead th {\n",
       "        text-align: right;\n",
       "    }\n",
       "</style>\n",
       "<table border=\"1\" class=\"dataframe\">\n",
       "  <thead>\n",
       "    <tr style=\"text-align: right;\">\n",
       "      <th></th>\n",
       "      <th>W</th>\n",
       "      <th>X</th>\n",
       "      <th>Y</th>\n",
       "      <th>Z</th>\n",
       "      <th>new</th>\n",
       "      <th>Q</th>\n",
       "    </tr>\n",
       "  </thead>\n",
       "  <tbody>\n",
       "    <tr>\n",
       "      <th>A</th>\n",
       "      <td>-0.563614</td>\n",
       "      <td>-0.329498</td>\n",
       "      <td>-2.109620</td>\n",
       "      <td>-0.832064</td>\n",
       "      <td>-2.673234</td>\n",
       "      <td>-2.673234</td>\n",
       "    </tr>\n",
       "    <tr>\n",
       "      <th>B</th>\n",
       "      <td>0.439073</td>\n",
       "      <td>-2.017416</td>\n",
       "      <td>-0.091666</td>\n",
       "      <td>-1.446877</td>\n",
       "      <td>0.347407</td>\n",
       "      <td>0.347407</td>\n",
       "    </tr>\n",
       "    <tr>\n",
       "      <th>C</th>\n",
       "      <td>1.564988</td>\n",
       "      <td>2.053313</td>\n",
       "      <td>0.155399</td>\n",
       "      <td>-0.232573</td>\n",
       "      <td>1.720387</td>\n",
       "      <td>1.720387</td>\n",
       "    </tr>\n",
       "    <tr>\n",
       "      <th>D</th>\n",
       "      <td>-1.523819</td>\n",
       "      <td>-0.718567</td>\n",
       "      <td>-0.243841</td>\n",
       "      <td>1.585095</td>\n",
       "      <td>-1.767660</td>\n",
       "      <td>-1.767660</td>\n",
       "    </tr>\n",
       "    <tr>\n",
       "      <th>E</th>\n",
       "      <td>0.160571</td>\n",
       "      <td>0.115993</td>\n",
       "      <td>0.425760</td>\n",
       "      <td>-0.022770</td>\n",
       "      <td>0.586330</td>\n",
       "      <td>0.586330</td>\n",
       "    </tr>\n",
       "  </tbody>\n",
       "</table>\n",
       "</div>"
      ],
      "text/plain": [
       "          W         X         Y         Z       new         Q\n",
       "A -0.563614 -0.329498 -2.109620 -0.832064 -2.673234 -2.673234\n",
       "B  0.439073 -2.017416 -0.091666 -1.446877  0.347407  0.347407\n",
       "C  1.564988  2.053313  0.155399 -0.232573  1.720387  1.720387\n",
       "D -1.523819 -0.718567 -0.243841  1.585095 -1.767660 -1.767660\n",
       "E  0.160571  0.115993  0.425760 -0.022770  0.586330  0.586330"
      ]
     },
     "execution_count": 23,
     "metadata": {},
     "output_type": "execute_result"
    }
   ],
   "source": [
    "df"
   ]
  },
  {
   "cell_type": "markdown",
   "id": "ee1a41f5",
   "metadata": {},
   "source": [
    "# for adding"
   ]
  },
  {
   "cell_type": "code",
   "execution_count": 24,
   "id": "0ce9c665",
   "metadata": {},
   "outputs": [
    {
     "data": {
      "text/html": [
       "<div>\n",
       "<style scoped>\n",
       "    .dataframe tbody tr th:only-of-type {\n",
       "        vertical-align: middle;\n",
       "    }\n",
       "\n",
       "    .dataframe tbody tr th {\n",
       "        vertical-align: top;\n",
       "    }\n",
       "\n",
       "    .dataframe thead th {\n",
       "        text-align: right;\n",
       "    }\n",
       "</style>\n",
       "<table border=\"1\" class=\"dataframe\">\n",
       "  <thead>\n",
       "    <tr style=\"text-align: right;\">\n",
       "      <th></th>\n",
       "      <th>W</th>\n",
       "      <th>X</th>\n",
       "      <th>Y</th>\n",
       "      <th>Z</th>\n",
       "      <th>Q</th>\n",
       "    </tr>\n",
       "  </thead>\n",
       "  <tbody>\n",
       "    <tr>\n",
       "      <th>A</th>\n",
       "      <td>-0.563614</td>\n",
       "      <td>-0.329498</td>\n",
       "      <td>-2.109620</td>\n",
       "      <td>-0.832064</td>\n",
       "      <td>-2.673234</td>\n",
       "    </tr>\n",
       "    <tr>\n",
       "      <th>B</th>\n",
       "      <td>0.439073</td>\n",
       "      <td>-2.017416</td>\n",
       "      <td>-0.091666</td>\n",
       "      <td>-1.446877</td>\n",
       "      <td>0.347407</td>\n",
       "    </tr>\n",
       "    <tr>\n",
       "      <th>C</th>\n",
       "      <td>1.564988</td>\n",
       "      <td>2.053313</td>\n",
       "      <td>0.155399</td>\n",
       "      <td>-0.232573</td>\n",
       "      <td>1.720387</td>\n",
       "    </tr>\n",
       "    <tr>\n",
       "      <th>D</th>\n",
       "      <td>-1.523819</td>\n",
       "      <td>-0.718567</td>\n",
       "      <td>-0.243841</td>\n",
       "      <td>1.585095</td>\n",
       "      <td>-1.767660</td>\n",
       "    </tr>\n",
       "    <tr>\n",
       "      <th>E</th>\n",
       "      <td>0.160571</td>\n",
       "      <td>0.115993</td>\n",
       "      <td>0.425760</td>\n",
       "      <td>-0.022770</td>\n",
       "      <td>0.586330</td>\n",
       "    </tr>\n",
       "  </tbody>\n",
       "</table>\n",
       "</div>"
      ],
      "text/plain": [
       "          W         X         Y         Z         Q\n",
       "A -0.563614 -0.329498 -2.109620 -0.832064 -2.673234\n",
       "B  0.439073 -2.017416 -0.091666 -1.446877  0.347407\n",
       "C  1.564988  2.053313  0.155399 -0.232573  1.720387\n",
       "D -1.523819 -0.718567 -0.243841  1.585095 -1.767660\n",
       "E  0.160571  0.115993  0.425760 -0.022770  0.586330"
      ]
     },
     "execution_count": 24,
     "metadata": {},
     "output_type": "execute_result"
    }
   ],
   "source": [
    "df.drop('new', axis=1)"
   ]
  },
  {
   "cell_type": "code",
   "execution_count": 25,
   "id": "1ace6d56",
   "metadata": {},
   "outputs": [
    {
     "data": {
      "text/html": [
       "<div>\n",
       "<style scoped>\n",
       "    .dataframe tbody tr th:only-of-type {\n",
       "        vertical-align: middle;\n",
       "    }\n",
       "\n",
       "    .dataframe tbody tr th {\n",
       "        vertical-align: top;\n",
       "    }\n",
       "\n",
       "    .dataframe thead th {\n",
       "        text-align: right;\n",
       "    }\n",
       "</style>\n",
       "<table border=\"1\" class=\"dataframe\">\n",
       "  <thead>\n",
       "    <tr style=\"text-align: right;\">\n",
       "      <th></th>\n",
       "      <th>W</th>\n",
       "      <th>X</th>\n",
       "      <th>Y</th>\n",
       "      <th>Z</th>\n",
       "      <th>new</th>\n",
       "      <th>Q</th>\n",
       "    </tr>\n",
       "  </thead>\n",
       "  <tbody>\n",
       "    <tr>\n",
       "      <th>A</th>\n",
       "      <td>-0.563614</td>\n",
       "      <td>-0.329498</td>\n",
       "      <td>-2.109620</td>\n",
       "      <td>-0.832064</td>\n",
       "      <td>-2.673234</td>\n",
       "      <td>-2.673234</td>\n",
       "    </tr>\n",
       "    <tr>\n",
       "      <th>B</th>\n",
       "      <td>0.439073</td>\n",
       "      <td>-2.017416</td>\n",
       "      <td>-0.091666</td>\n",
       "      <td>-1.446877</td>\n",
       "      <td>0.347407</td>\n",
       "      <td>0.347407</td>\n",
       "    </tr>\n",
       "    <tr>\n",
       "      <th>C</th>\n",
       "      <td>1.564988</td>\n",
       "      <td>2.053313</td>\n",
       "      <td>0.155399</td>\n",
       "      <td>-0.232573</td>\n",
       "      <td>1.720387</td>\n",
       "      <td>1.720387</td>\n",
       "    </tr>\n",
       "    <tr>\n",
       "      <th>D</th>\n",
       "      <td>-1.523819</td>\n",
       "      <td>-0.718567</td>\n",
       "      <td>-0.243841</td>\n",
       "      <td>1.585095</td>\n",
       "      <td>-1.767660</td>\n",
       "      <td>-1.767660</td>\n",
       "    </tr>\n",
       "    <tr>\n",
       "      <th>E</th>\n",
       "      <td>0.160571</td>\n",
       "      <td>0.115993</td>\n",
       "      <td>0.425760</td>\n",
       "      <td>-0.022770</td>\n",
       "      <td>0.586330</td>\n",
       "      <td>0.586330</td>\n",
       "    </tr>\n",
       "  </tbody>\n",
       "</table>\n",
       "</div>"
      ],
      "text/plain": [
       "          W         X         Y         Z       new         Q\n",
       "A -0.563614 -0.329498 -2.109620 -0.832064 -2.673234 -2.673234\n",
       "B  0.439073 -2.017416 -0.091666 -1.446877  0.347407  0.347407\n",
       "C  1.564988  2.053313  0.155399 -0.232573  1.720387  1.720387\n",
       "D -1.523819 -0.718567 -0.243841  1.585095 -1.767660 -1.767660\n",
       "E  0.160571  0.115993  0.425760 -0.022770  0.586330  0.586330"
      ]
     },
     "execution_count": 25,
     "metadata": {},
     "output_type": "execute_result"
    }
   ],
   "source": [
    "df"
   ]
  },
  {
   "cell_type": "code",
   "execution_count": 26,
   "id": "9d5130fc",
   "metadata": {},
   "outputs": [],
   "source": [
    "df.drop('new', axis=1, inplace=True)"
   ]
  },
  {
   "cell_type": "code",
   "execution_count": 27,
   "id": "1e58932a",
   "metadata": {},
   "outputs": [
    {
     "data": {
      "text/html": [
       "<div>\n",
       "<style scoped>\n",
       "    .dataframe tbody tr th:only-of-type {\n",
       "        vertical-align: middle;\n",
       "    }\n",
       "\n",
       "    .dataframe tbody tr th {\n",
       "        vertical-align: top;\n",
       "    }\n",
       "\n",
       "    .dataframe thead th {\n",
       "        text-align: right;\n",
       "    }\n",
       "</style>\n",
       "<table border=\"1\" class=\"dataframe\">\n",
       "  <thead>\n",
       "    <tr style=\"text-align: right;\">\n",
       "      <th></th>\n",
       "      <th>W</th>\n",
       "      <th>X</th>\n",
       "      <th>Y</th>\n",
       "      <th>Z</th>\n",
       "      <th>Q</th>\n",
       "    </tr>\n",
       "  </thead>\n",
       "  <tbody>\n",
       "    <tr>\n",
       "      <th>A</th>\n",
       "      <td>-0.563614</td>\n",
       "      <td>-0.329498</td>\n",
       "      <td>-2.109620</td>\n",
       "      <td>-0.832064</td>\n",
       "      <td>-2.673234</td>\n",
       "    </tr>\n",
       "    <tr>\n",
       "      <th>B</th>\n",
       "      <td>0.439073</td>\n",
       "      <td>-2.017416</td>\n",
       "      <td>-0.091666</td>\n",
       "      <td>-1.446877</td>\n",
       "      <td>0.347407</td>\n",
       "    </tr>\n",
       "    <tr>\n",
       "      <th>C</th>\n",
       "      <td>1.564988</td>\n",
       "      <td>2.053313</td>\n",
       "      <td>0.155399</td>\n",
       "      <td>-0.232573</td>\n",
       "      <td>1.720387</td>\n",
       "    </tr>\n",
       "    <tr>\n",
       "      <th>D</th>\n",
       "      <td>-1.523819</td>\n",
       "      <td>-0.718567</td>\n",
       "      <td>-0.243841</td>\n",
       "      <td>1.585095</td>\n",
       "      <td>-1.767660</td>\n",
       "    </tr>\n",
       "    <tr>\n",
       "      <th>E</th>\n",
       "      <td>0.160571</td>\n",
       "      <td>0.115993</td>\n",
       "      <td>0.425760</td>\n",
       "      <td>-0.022770</td>\n",
       "      <td>0.586330</td>\n",
       "    </tr>\n",
       "  </tbody>\n",
       "</table>\n",
       "</div>"
      ],
      "text/plain": [
       "          W         X         Y         Z         Q\n",
       "A -0.563614 -0.329498 -2.109620 -0.832064 -2.673234\n",
       "B  0.439073 -2.017416 -0.091666 -1.446877  0.347407\n",
       "C  1.564988  2.053313  0.155399 -0.232573  1.720387\n",
       "D -1.523819 -0.718567 -0.243841  1.585095 -1.767660\n",
       "E  0.160571  0.115993  0.425760 -0.022770  0.586330"
      ]
     },
     "execution_count": 27,
     "metadata": {},
     "output_type": "execute_result"
    }
   ],
   "source": [
    "df"
   ]
  },
  {
   "cell_type": "markdown",
   "id": "0b430468",
   "metadata": {},
   "source": [
    "# for deleting"
   ]
  },
  {
   "cell_type": "code",
   "execution_count": 30,
   "id": "6b8c9d40",
   "metadata": {},
   "outputs": [
    {
     "data": {
      "text/html": [
       "<div>\n",
       "<style scoped>\n",
       "    .dataframe tbody tr th:only-of-type {\n",
       "        vertical-align: middle;\n",
       "    }\n",
       "\n",
       "    .dataframe tbody tr th {\n",
       "        vertical-align: top;\n",
       "    }\n",
       "\n",
       "    .dataframe thead th {\n",
       "        text-align: right;\n",
       "    }\n",
       "</style>\n",
       "<table border=\"1\" class=\"dataframe\">\n",
       "  <thead>\n",
       "    <tr style=\"text-align: right;\">\n",
       "      <th></th>\n",
       "      <th>W</th>\n",
       "      <th>X</th>\n",
       "      <th>Y</th>\n",
       "      <th>Z</th>\n",
       "      <th>Q</th>\n",
       "    </tr>\n",
       "  </thead>\n",
       "  <tbody>\n",
       "    <tr>\n",
       "      <th>A</th>\n",
       "      <td>-0.563614</td>\n",
       "      <td>-0.329498</td>\n",
       "      <td>-2.109620</td>\n",
       "      <td>-0.832064</td>\n",
       "      <td>-2.673234</td>\n",
       "    </tr>\n",
       "    <tr>\n",
       "      <th>B</th>\n",
       "      <td>0.439073</td>\n",
       "      <td>-2.017416</td>\n",
       "      <td>-0.091666</td>\n",
       "      <td>-1.446877</td>\n",
       "      <td>0.347407</td>\n",
       "    </tr>\n",
       "    <tr>\n",
       "      <th>C</th>\n",
       "      <td>1.564988</td>\n",
       "      <td>2.053313</td>\n",
       "      <td>0.155399</td>\n",
       "      <td>-0.232573</td>\n",
       "      <td>1.720387</td>\n",
       "    </tr>\n",
       "    <tr>\n",
       "      <th>D</th>\n",
       "      <td>-1.523819</td>\n",
       "      <td>-0.718567</td>\n",
       "      <td>-0.243841</td>\n",
       "      <td>1.585095</td>\n",
       "      <td>-1.767660</td>\n",
       "    </tr>\n",
       "  </tbody>\n",
       "</table>\n",
       "</div>"
      ],
      "text/plain": [
       "          W         X         Y         Z         Q\n",
       "A -0.563614 -0.329498 -2.109620 -0.832064 -2.673234\n",
       "B  0.439073 -2.017416 -0.091666 -1.446877  0.347407\n",
       "C  1.564988  2.053313  0.155399 -0.232573  1.720387\n",
       "D -1.523819 -0.718567 -0.243841  1.585095 -1.767660"
      ]
     },
     "execution_count": 30,
     "metadata": {},
     "output_type": "execute_result"
    }
   ],
   "source": [
    "df.drop('E', axis=0)"
   ]
  },
  {
   "cell_type": "code",
   "execution_count": 31,
   "id": "d79cb96b",
   "metadata": {},
   "outputs": [
    {
     "data": {
      "text/html": [
       "<div>\n",
       "<style scoped>\n",
       "    .dataframe tbody tr th:only-of-type {\n",
       "        vertical-align: middle;\n",
       "    }\n",
       "\n",
       "    .dataframe tbody tr th {\n",
       "        vertical-align: top;\n",
       "    }\n",
       "\n",
       "    .dataframe thead th {\n",
       "        text-align: right;\n",
       "    }\n",
       "</style>\n",
       "<table border=\"1\" class=\"dataframe\">\n",
       "  <thead>\n",
       "    <tr style=\"text-align: right;\">\n",
       "      <th></th>\n",
       "      <th>W</th>\n",
       "      <th>X</th>\n",
       "      <th>Y</th>\n",
       "      <th>Z</th>\n",
       "      <th>Q</th>\n",
       "    </tr>\n",
       "  </thead>\n",
       "  <tbody>\n",
       "    <tr>\n",
       "      <th>A</th>\n",
       "      <td>-0.563614</td>\n",
       "      <td>-0.329498</td>\n",
       "      <td>-2.109620</td>\n",
       "      <td>-0.832064</td>\n",
       "      <td>-2.673234</td>\n",
       "    </tr>\n",
       "    <tr>\n",
       "      <th>B</th>\n",
       "      <td>0.439073</td>\n",
       "      <td>-2.017416</td>\n",
       "      <td>-0.091666</td>\n",
       "      <td>-1.446877</td>\n",
       "      <td>0.347407</td>\n",
       "    </tr>\n",
       "    <tr>\n",
       "      <th>C</th>\n",
       "      <td>1.564988</td>\n",
       "      <td>2.053313</td>\n",
       "      <td>0.155399</td>\n",
       "      <td>-0.232573</td>\n",
       "      <td>1.720387</td>\n",
       "    </tr>\n",
       "    <tr>\n",
       "      <th>D</th>\n",
       "      <td>-1.523819</td>\n",
       "      <td>-0.718567</td>\n",
       "      <td>-0.243841</td>\n",
       "      <td>1.585095</td>\n",
       "      <td>-1.767660</td>\n",
       "    </tr>\n",
       "    <tr>\n",
       "      <th>E</th>\n",
       "      <td>0.160571</td>\n",
       "      <td>0.115993</td>\n",
       "      <td>0.425760</td>\n",
       "      <td>-0.022770</td>\n",
       "      <td>0.586330</td>\n",
       "    </tr>\n",
       "  </tbody>\n",
       "</table>\n",
       "</div>"
      ],
      "text/plain": [
       "          W         X         Y         Z         Q\n",
       "A -0.563614 -0.329498 -2.109620 -0.832064 -2.673234\n",
       "B  0.439073 -2.017416 -0.091666 -1.446877  0.347407\n",
       "C  1.564988  2.053313  0.155399 -0.232573  1.720387\n",
       "D -1.523819 -0.718567 -0.243841  1.585095 -1.767660\n",
       "E  0.160571  0.115993  0.425760 -0.022770  0.586330"
      ]
     },
     "execution_count": 31,
     "metadata": {},
     "output_type": "execute_result"
    }
   ],
   "source": [
    "df"
   ]
  },
  {
   "cell_type": "code",
   "execution_count": null,
   "id": "20132d73",
   "metadata": {},
   "outputs": [],
   "source": []
  }
 ],
 "metadata": {
  "kernelspec": {
   "display_name": "Python 3 (ipykernel)",
   "language": "python",
   "name": "python3"
  },
  "language_info": {
   "codemirror_mode": {
    "name": "ipython",
    "version": 3
   },
   "file_extension": ".py",
   "mimetype": "text/x-python",
   "name": "python",
   "nbconvert_exporter": "python",
   "pygments_lexer": "ipython3",
   "version": "3.9.13"
  }
 },
 "nbformat": 4,
 "nbformat_minor": 5
}
